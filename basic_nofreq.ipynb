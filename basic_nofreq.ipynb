{
 "cells": [
  {
   "cell_type": "code",
   "execution_count": 1,
   "id": "0069f48e-3622-44da-bdc8-e3b19ee8249d",
   "metadata": {},
   "outputs": [],
   "source": [
    "import numpy as np\n",
    "import pandas as pd\n",
    "import matplotlib.pyplot as plt"
   ]
  },
  {
   "cell_type": "code",
   "execution_count": 2,
   "id": "74a9ff3e-cdcc-40ce-9156-358f47921fbc",
   "metadata": {},
   "outputs": [],
   "source": [
    "prix_kWh = 0.1544 # en €, pas de prise en compte heures pleines/creuses ici\n",
    "prix_Wh = prix_kWh/1000 \n",
    "\n",
    "# According to Direct Energie, ma conso annuel\n",
    "# 10300 kW in 2020\n",
    "# 7000 kW something in 2021"
   ]
  },
  {
   "cell_type": "code",
   "execution_count": 25,
   "id": "e5641184-bbf8-4bf8-adc9-ff347c61b190",
   "metadata": {},
   "outputs": [],
   "source": [
    "info = pd.date_range('1/1/2013', periods=6, freq='H')\n",
    "series = pd.Series(range(6), index=info)"
   ]
  },
  {
   "cell_type": "code",
   "execution_count": 26,
   "id": "2c4d8da9-9e32-4393-8606-6590678a3f33",
   "metadata": {},
   "outputs": [
    {
     "data": {
      "text/plain": [
       "2013-01-01 00:00:00    0\n",
       "2013-01-01 01:00:00    1\n",
       "2013-01-01 02:00:00    2\n",
       "2013-01-01 03:00:00    3\n",
       "2013-01-01 04:00:00    4\n",
       "2013-01-01 05:00:00    5\n",
       "Freq: H, dtype: int64"
      ]
     },
     "execution_count": 26,
     "metadata": {},
     "output_type": "execute_result"
    }
   ],
   "source": [
    "series"
   ]
  },
  {
   "cell_type": "code",
   "execution_count": 27,
   "id": "3452a128-c9db-438b-a209-885517135789",
   "metadata": {},
   "outputs": [
    {
     "data": {
      "text/plain": [
       "2013-01-01 00:00:00    0.0\n",
       "2013-01-01 00:30:00    0.0\n",
       "2013-01-01 01:00:00    0.5\n",
       "2013-01-01 01:30:00    0.0\n",
       "2013-01-01 02:00:00    1.0\n",
       "2013-01-01 02:30:00    0.0\n",
       "2013-01-01 03:00:00    1.5\n",
       "2013-01-01 03:30:00    0.0\n",
       "2013-01-01 04:00:00    2.0\n",
       "2013-01-01 04:30:00    0.0\n",
       "2013-01-01 05:00:00    2.5\n",
       "Freq: 30T, dtype: float64"
      ]
     },
     "execution_count": 27,
     "metadata": {},
     "output_type": "execute_result"
    }
   ],
   "source": [
    "\n",
    "series_bis = series.resample('30min').sum()\n",
    "series_bis"
   ]
  },
  {
   "cell_type": "code",
   "execution_count": 9,
   "id": "9732191b-d41c-494b-8cd0-aa5c18e68ee7",
   "metadata": {},
   "outputs": [],
   "source": [
    "data_path = './data/Enedis_Conso_Heure_20191229-20211217_23105354542081.csv'"
   ]
  },
  {
   "cell_type": "code",
   "execution_count": 10,
   "id": "4c8515ea-9e2f-4033-b103-8aecebaaa880",
   "metadata": {},
   "outputs": [],
   "source": [
    "df = pd.read_csv(data_path, skiprows=0, sep=\";\", header=2, usecols=[0, 1])\n",
    "df.Horodate = pd.to_datetime(df.Horodate, utc=True)\n",
    "df = df.set_index('Horodate')\n",
    "#df.index = df.index.tz_convert(\"Europe/London\")"
   ]
  },
  {
   "cell_type": "code",
   "execution_count": 12,
   "id": "078c3b06-4f53-438a-bf6d-f9b5d25c18d2",
   "metadata": {},
   "outputs": [
    {
     "data": {
      "text/html": [
       "<div>\n",
       "<style scoped>\n",
       "    .dataframe tbody tr th:only-of-type {\n",
       "        vertical-align: middle;\n",
       "    }\n",
       "\n",
       "    .dataframe tbody tr th {\n",
       "        vertical-align: top;\n",
       "    }\n",
       "\n",
       "    .dataframe thead th {\n",
       "        text-align: right;\n",
       "    }\n",
       "</style>\n",
       "<table border=\"1\" class=\"dataframe\">\n",
       "  <thead>\n",
       "    <tr style=\"text-align: right;\">\n",
       "      <th></th>\n",
       "      <th>Valeur</th>\n",
       "    </tr>\n",
       "    <tr>\n",
       "      <th>Horodate</th>\n",
       "      <th></th>\n",
       "    </tr>\n",
       "  </thead>\n",
       "  <tbody>\n",
       "    <tr>\n",
       "      <th>2020-06-15 03:00:00+00:00</th>\n",
       "      <td>1200.0</td>\n",
       "    </tr>\n",
       "    <tr>\n",
       "      <th>2020-06-15 04:00:00+00:00</th>\n",
       "      <td>464.0</td>\n",
       "    </tr>\n",
       "    <tr>\n",
       "      <th>2020-06-15 05:00:00+00:00</th>\n",
       "      <td>549.0</td>\n",
       "    </tr>\n",
       "    <tr>\n",
       "      <th>2020-06-15 06:00:00+00:00</th>\n",
       "      <td>1664.0</td>\n",
       "    </tr>\n",
       "    <tr>\n",
       "      <th>2020-06-15 07:00:00+00:00</th>\n",
       "      <td>337.0</td>\n",
       "    </tr>\n",
       "  </tbody>\n",
       "</table>\n",
       "</div>"
      ],
      "text/plain": [
       "                           Valeur\n",
       "Horodate                         \n",
       "2020-06-15 03:00:00+00:00  1200.0\n",
       "2020-06-15 04:00:00+00:00   464.0\n",
       "2020-06-15 05:00:00+00:00   549.0\n",
       "2020-06-15 06:00:00+00:00  1664.0\n",
       "2020-06-15 07:00:00+00:00   337.0"
      ]
     },
     "execution_count": 12,
     "metadata": {},
     "output_type": "execute_result"
    }
   ],
   "source": [
    "df.head()"
   ]
  },
  {
   "cell_type": "code",
   "execution_count": 7,
   "id": "d2fe6e6c-a9c5-4aa0-a819-524c3c5d5663",
   "metadata": {},
   "outputs": [
    {
     "name": "stdout",
     "output_type": "stream",
     "text": [
      "Valeur    float64\n",
      "dtype: object\n",
      "DatetimeIndex(['2020-06-15 03:00:00+00:00', '2020-06-15 04:00:00+00:00',\n",
      "               '2020-06-15 05:00:00+00:00', '2020-06-15 06:00:00+00:00',\n",
      "               '2020-06-15 07:00:00+00:00', '2020-06-15 08:00:00+00:00',\n",
      "               '2020-06-15 09:00:00+00:00', '2020-06-15 10:00:00+00:00',\n",
      "               '2020-06-15 11:00:00+00:00', '2020-06-15 12:00:00+00:00',\n",
      "               ...\n",
      "               '2021-12-16 18:30:00+00:00', '2021-12-16 19:00:00+00:00',\n",
      "               '2021-12-16 19:30:00+00:00', '2021-12-16 20:00:00+00:00',\n",
      "               '2021-12-16 20:30:00+00:00', '2021-12-16 21:00:00+00:00',\n",
      "               '2021-12-16 21:30:00+00:00', '2021-12-16 22:00:00+00:00',\n",
      "               '2021-12-16 22:30:00+00:00', '2021-12-16 23:00:00+00:00'],\n",
      "              dtype='datetime64[ns, UTC]', name='Horodate', length=22460, freq=None)\n"
     ]
    }
   ],
   "source": [
    "print(df.dtypes)\n",
    "print(df.index)"
   ]
  },
  {
   "cell_type": "code",
   "execution_count": 8,
   "id": "6489460f-e854-4b84-9df0-1f5df017ab7e",
   "metadata": {},
   "outputs": [
    {
     "data": {
      "text/plain": [
       "[<matplotlib.lines.Line2D at 0x7fc3a15984c0>]"
      ]
     },
     "execution_count": 8,
     "metadata": {},
     "output_type": "execute_result"
    },
    {
     "data": {
      "image/png": "[encoded data removed]",
      "text/plain": [
       "<Figure size 432x288 with 1 Axes>"
      ]
     },
     "metadata": {
      "needs_background": "light"
     },
     "output_type": "display_data"
    }
   ],
   "source": [
    "plt.plot(df)"
   ]
  },
  {
   "cell_type": "code",
   "execution_count": 397,
   "id": "873fcaef-3ed0-41f5-b756-8a2a4b873690",
   "metadata": {},
   "outputs": [
    {
     "data": {
      "text/plain": [
       "DatetimeIndex(['2020-06-15 03:00:00+00:00', '2020-06-15 04:00:00+00:00',\n",
       "               '2020-06-15 05:00:00+00:00', '2020-06-15 06:00:00+00:00',\n",
       "               '2020-06-15 07:00:00+00:00', '2020-06-15 08:00:00+00:00',\n",
       "               '2020-06-15 09:00:00+00:00', '2020-06-15 10:00:00+00:00',\n",
       "               '2020-06-15 11:00:00+00:00', '2020-06-15 12:00:00+00:00',\n",
       "               ...\n",
       "               '2021-12-16 14:00:00+00:00', '2021-12-16 15:00:00+00:00',\n",
       "               '2021-12-16 16:00:00+00:00', '2021-12-16 17:00:00+00:00',\n",
       "               '2021-12-16 18:00:00+00:00', '2021-12-16 19:00:00+00:00',\n",
       "               '2021-12-16 20:00:00+00:00', '2021-12-16 21:00:00+00:00',\n",
       "               '2021-12-16 22:00:00+00:00', '2021-12-16 23:00:00+00:00'],\n",
       "              dtype='datetime64[ns, UTC]', name='Horodate', length=13197, freq='H')"
      ]
     },
     "execution_count": 397,
     "metadata": {},
     "output_type": "execute_result"
    }
   ],
   "source": [
    "df_h.index"
   ]
  },
  {
   "cell_type": "code",
   "execution_count": 406,
   "id": "044d129c-406b-4a16-82f0-c64c6657cf00",
   "metadata": {},
   "outputs": [
    {
     "name": "stdout",
     "output_type": "stream",
     "text": [
      "                               Valeur\n",
      "Horodate                             \n",
      "2020-12-31 00:00:00+00:00   6958980.0\n",
      "2021-12-31 00:00:00+00:00  19587186.0\n"
     ]
    }
   ],
   "source": [
    "df_y = df_h.resample('Y').sum()\n",
    "print(df_y)"
   ]
  },
  {
   "cell_type": "code",
   "execution_count": 407,
   "id": "82831e73-fd64-4d61-8aa5-e9b8f10e8147",
   "metadata": {},
   "outputs": [
    {
     "name": "stdout",
     "output_type": "stream",
     "text": [
      "                               Valeur         kW         cout\n",
      "Horodate                                                     \n",
      "2020-12-31 00:00:00+00:00   6958980.0   6958.980  1074.466512\n",
      "2021-12-31 00:00:00+00:00  19587186.0  19587.186  3024.261518\n"
     ]
    }
   ],
   "source": [
    "df_y['kW'] = df_y['Valeur']/1000\n",
    "df_y['cout'] = df_y['Valeur']*prix_Wh\n",
    "print(df_y)"
   ]
  },
  {
   "cell_type": "code",
   "execution_count": null,
   "id": "88fedad1-b33f-4329-a809-e30259480377",
   "metadata": {},
   "outputs": [],
   "source": [
    "dfg = df.groupby([df.index.dt.year]).agg({'Valeur': sum})"
   ]
  },
  {
   "cell_type": "code",
   "execution_count": 310,
   "id": "1552919f-8e32-4d55-8d13-3f44056c2e8c",
   "metadata": {},
   "outputs": [],
   "source": [
    "# there is missing rows in the ENEDIS doc... so we need to take of this\n",
    "start_time = df['Horodate'].iloc[0]\n",
    "end_time = df['Horodate'].iloc[-1]\n",
    "full_date = pd.date_range(start=start_time, end=end_time, freq='30min')"
   ]
  },
  {
   "cell_type": "code",
   "execution_count": 311,
   "id": "dd145aef-f608-472f-b55b-bc155ca57fdc",
   "metadata": {},
   "outputs": [],
   "source": [
    "df_new = pd.DataFrame({'Horodate':full_date})\n",
    "df_new['Horodate'] = pd.to_datetime(df_new['Horodate'])"
   ]
  },
  {
   "cell_type": "code",
   "execution_count": 312,
   "id": "1de30668-39ae-4329-b320-f586b56fccd7",
   "metadata": {},
   "outputs": [
    {
     "data": {
      "text/plain": [
       "Horodate    datetime64[ns, UTC]\n",
       "Valeur                  float64\n",
       "dtype: object"
      ]
     },
     "execution_count": 312,
     "metadata": {},
     "output_type": "execute_result"
    }
   ],
   "source": [
    "df.dtypes"
   ]
  },
  {
   "cell_type": "code",
   "execution_count": null,
   "id": "cc5a9a48-e44e-4cb8-877f-0695ab275705",
   "metadata": {},
   "outputs": [],
   "source": [
    "df_new2 = df_new.join(df, on='Horodate')"
   ]
  },
  {
   "cell_type": "code",
   "execution_count": 270,
   "id": "15a1aa7e-fc90-4fe5-b0d6-69021e65b5f2",
   "metadata": {},
   "outputs": [],
   "source": [
    "df.index = pd.to_datetime(df.index, utc=True)"
   ]
  },
  {
   "cell_type": "code",
   "execution_count": 271,
   "id": "2f39296e-b510-492a-8b7c-87b8ab5295f8",
   "metadata": {},
   "outputs": [
    {
     "data": {
      "text/plain": [
       "DatetimeIndex(['2020-10-31 23:30:00+00:00', '2020-11-01 00:00:00+00:00',\n",
       "               '2020-11-01 00:30:00+00:00', '2020-11-01 01:00:00+00:00',\n",
       "               '2020-11-01 01:30:00+00:00', '2020-11-01 02:00:00+00:00',\n",
       "               '2020-11-01 02:30:00+00:00', '2020-11-01 03:00:00+00:00',\n",
       "               '2020-11-01 03:30:00+00:00', '2020-11-01 04:00:00+00:00',\n",
       "               ...\n",
       "               '2021-12-15 18:30:00+00:00', '2021-12-15 19:00:00+00:00',\n",
       "               '2021-12-15 19:30:00+00:00', '2021-12-15 20:00:00+00:00',\n",
       "               '2021-12-15 20:30:00+00:00', '2021-12-15 21:00:00+00:00',\n",
       "               '2021-12-15 21:30:00+00:00', '2021-12-15 22:00:00+00:00',\n",
       "               '2021-12-15 22:30:00+00:00', '2021-12-15 23:00:00+00:00'],\n",
       "              dtype='datetime64[ns, UTC]', name='Horodate', length=19098, freq=None)"
      ]
     },
     "execution_count": 271,
     "metadata": {},
     "output_type": "execute_result"
    }
   ],
   "source": [
    "df.index"
   ]
  },
  {
   "cell_type": "code",
   "execution_count": 252,
   "id": "36f69be6-9ce8-4e70-91db-98bc6ef9462f",
   "metadata": {},
   "outputs": [],
   "source": [
    "#df = pd.read_csv(data_path, skiprows=0, sep=\";\", header=2, usecols=[0, 1], index_col = 'Horodate')\n",
    "#df.index = df.index.str.replace('+01:00','',regex=False) \n",
    "#df.index = pd.to_datetime(df.index, utc=True)\n",
    "#df.index = pd.DatetimeIndex(df.asfreq(freq='30min'))\n",
    "#df.index = df.index.tz_convert(\"Europe/London\")"
   ]
  },
  {
   "cell_type": "code",
   "execution_count": 253,
   "id": "b8f7b6a7-c8a1-441f-acba-ff9fc34a987b",
   "metadata": {},
   "outputs": [],
   "source": [
    "#df = pd.read_csv(data_path, skiprows=0, sep=\";\", header=2, usecols=[0, 1])\n",
    "#print(df.dtypes)\n",
    "#df[\"Horodate\"] = pd.to_datetime(df[\"Horodate\"], utc=True)\n",
    "#print(df.dtypes)\n",
    "#df.head()\n",
    "#df = df.set_index('Horodate')\n",
    "#print(df.dtypes)\n",
    "#df.head()\n",
    "#.tz_localize(\"Europe/London\")\n",
    "#print(df.index)"
   ]
  },
  {
   "cell_type": "code",
   "execution_count": 272,
   "id": "b17e1260-ea30-4521-87e7-7a620382a837",
   "metadata": {},
   "outputs": [],
   "source": [
    "pd.infer_freq(df.index)"
   ]
  },
  {
   "cell_type": "code",
   "execution_count": 259,
   "id": "84bad54e-1146-41be-aa62-f2f1e9e6ec89",
   "metadata": {},
   "outputs": [],
   "source": [
    "freq = pd.infer_freq(df.index)\n",
    "df.freq = pd.tseries.frequencies.to_offset(freq)"
   ]
  },
  {
   "cell_type": "code",
   "execution_count": 263,
   "id": "0369e5ac-8c39-494f-9cef-50884934edf7",
   "metadata": {},
   "outputs": [
    {
     "data": {
      "text/plain": [
       "True"
      ]
     },
     "execution_count": 263,
     "metadata": {},
     "output_type": "execute_result"
    }
   ],
   "source": [
    "pd.infer_freq(df.index) is None"
   ]
  },
  {
   "cell_type": "code",
   "execution_count": 262,
   "id": "5d94e64a-5839-4225-a285-00e40f919e8e",
   "metadata": {},
   "outputs": [
    {
     "data": {
      "text/plain": [
       "True"
      ]
     },
     "execution_count": 262,
     "metadata": {},
     "output_type": "execute_result"
    }
   ],
   "source": [
    "df.index.freq is None"
   ]
  },
  {
   "cell_type": "code",
   "execution_count": null,
   "id": "a25d40df-9b74-442f-860b-fae7a0324591",
   "metadata": {},
   "outputs": [],
   "source": [
    "df.index = pd.DatetimeIndex(df.asfreq(freq='30min'))\n",
    "#df.index.freq='30Min'\n",
    "#print(df.index.freq)"
   ]
  },
  {
   "cell_type": "code",
   "execution_count": null,
   "id": "3c87c9f8-b84e-41bf-81c4-4884f8f7cbb4",
   "metadata": {},
   "outputs": [],
   "source": [
    "df.index = df[\"Horodate\"].tz_localize(\"US\").tz_convert(\"Europe/London\")"
   ]
  },
  {
   "cell_type": "code",
   "execution_count": null,
   "id": "3ec1d5ae-e236-4afe-abea-78ad705c7ab8",
   "metadata": {},
   "outputs": [],
   "source": [
    "df[\"Horodate\"].tz_localize(\"Europe/London\")\n",
    "#.tz_convert(\"UTC\")"
   ]
  },
  {
   "cell_type": "code",
   "execution_count": null,
   "id": "2becd789-1fff-4407-8339-4c16485d0e68",
   "metadata": {},
   "outputs": [],
   "source": [
    "df[\"Horodate\"] "
   ]
  },
  {
   "cell_type": "code",
   "execution_count": null,
   "id": "dcba4f98-174c-4773-b5fa-3f6f6885e43c",
   "metadata": {},
   "outputs": [],
   "source": [
    "df['new'] = df['Horodate'].dt.tz_convert(None)"
   ]
  },
  {
   "cell_type": "code",
   "execution_count": 116,
   "id": "7d049f15-fc19-4658-9600-5b68ec9c9e1d",
   "metadata": {},
   "outputs": [],
   "source": [
    "df['Horodate'] = pd.to_datetime(df['Horodate'], utc=True)\n",
    "#df = df.set_index('Horodate')"
   ]
  },
  {
   "cell_type": "code",
   "execution_count": 96,
   "id": "1ed24140-52d6-49ef-8db3-06a2436c6244",
   "metadata": {},
   "outputs": [],
   "source": [
    "#format = '%Y-%m-%d %H:%M:%S'\n",
    "df['Horodate'] = pd.to_datetime(df['Horodate'], infer_datetime_format=True) #format=format)\n",
    "#df['Datetime'].tz_convert(\"Europe/Berlin\")\n",
    "df = df.set_index(df['Horodate'])"
   ]
  },
  {
   "cell_type": "code",
   "execution_count": null,
   "id": "8fe2f06c-015b-4ad3-ad54-d96635e29baf",
   "metadata": {},
   "outputs": [],
   "source": [
    "df['Horodate'].tz_convert(\"Europe/Berlin\")"
   ]
  },
  {
   "cell_type": "code",
   "execution_count": null,
   "id": "6dbcdd96-1b51-4d75-93cc-138b0ddc9ad3",
   "metadata": {},
   "outputs": [],
   "source": [
    "#data = data.set_index('Horodate')\n",
    "data['Horodate'].DatetimeIndex()"
   ]
  },
  {
   "cell_type": "code",
   "execution_count": null,
   "id": "7d2e9a43-d001-48aa-8e7a-b86a6168880c",
   "metadata": {},
   "outputs": [
    {
     "name": "stdout",
     "output_type": "stream",
     "text": [
      "23 missing values will be ffilled\n",
      "Done. 0 missing values remaining\n"
     ]
    }
   ],
   "source": [
    "# Replace missing values with the last one recorded (hopefully not too much)\n",
    "print(f\"{data['Valeur'].isna().sum()} missing values will be ffilled\")\n",
    "data['Valeur'] = data['Valeur'].ffill()\n",
    "print(f\"Done. {data['Valeur'].isna().sum()} missing values remaining\")"
   ]
  },
  {
   "cell_type": "code",
   "execution_count": null,
   "id": "6efa23e3-495a-4760-966c-a0eb6cc5344e",
   "metadata": {},
   "outputs": [],
   "source": [
    "data_weekly_mean = data['Valeur'].resample('W').mean() # W stands for weekly"
   ]
  }
 ],
 "metadata": {
  "kernelspec": {
   "display_name": "Python 3 (ipykernel)",
   "language": "python",
   "name": "python3"
  },
  "language_info": {
   "codemirror_mode": {
    "name": "ipython",
    "version": 3
   },
   "file_extension": ".py",
   "mimetype": "text/x-python",
   "name": "python",
   "nbconvert_exporter": "python",
   "pygments_lexer": "ipython3",
   "version": "3.8.12"
  }
 },
 "nbformat": 4,
 "nbformat_minor": 5
}
