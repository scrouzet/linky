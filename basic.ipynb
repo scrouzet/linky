{
 "cells": [
  {
   "cell_type": "code",
   "execution_count": 1,
   "id": "0069f48e-3622-44da-bdc8-e3b19ee8249d",
   "metadata": {},
   "outputs": [],
   "source": [
    "import numpy as np\n",
    "import pandas as pd\n",
    "import matplotlib.pyplot as plt"
   ]
  },
  {
   "cell_type": "code",
   "execution_count": 2,
   "id": "74a9ff3e-cdcc-40ce-9156-358f47921fbc",
   "metadata": {},
   "outputs": [],
   "source": [
    "prix_kWh = 0.1544 # en €, pas de prise en compte heures pleines/creuses ici\n",
    "prix_Wh = prix_kWh/1000\n",
    "\n",
    "# According to Direct Energie, ma conso annuel\n",
    "# 10300 kW in 2020\n",
    "# 7000 kW something in 2021"
   ]
  },
  {
   "cell_type": "code",
   "execution_count": 3,
   "id": "9732191b-d41c-494b-8cd0-aa5c18e68ee7",
   "metadata": {},
   "outputs": [],
   "source": [
    "data_path = './data/Enedis_Conso_Heure_20191229-20211217_23105354542081.csv'"
   ]
  },
  {
   "cell_type": "code",
   "execution_count": 4,
   "id": "4c8515ea-9e2f-4033-b103-8aecebaaa880",
   "metadata": {},
   "outputs": [],
   "source": [
    "df = pd.read_csv(data_path, skiprows=0, sep=\";\", header=2, usecols=[0, 1])\n",
    "#df.index = df.index.str.replace('+01:00','',regex=False) \n",
    "df.Horodate = pd.to_datetime(df.Horodate, utc=True)\n",
    "df = df.set_index('Horodate')\n",
    "#df.index = pd.DatetimeIndex(df.asfreq(freq='30min'))\n",
    "#df.index = df.index.tz_convert(\"Europe/London\")"
   ]
  },
  {
   "cell_type": "code",
   "execution_count": 5,
   "id": "d2fe6e6c-a9c5-4aa0-a819-524c3c5d5663",
   "metadata": {},
   "outputs": [
    {
     "name": "stdout",
     "output_type": "stream",
     "text": [
      "Valeur    float64\n",
      "dtype: object\n",
      "DatetimeIndex(['2020-06-15 03:00:00+00:00', '2020-06-15 04:00:00+00:00',\n",
      "               '2020-06-15 05:00:00+00:00', '2020-06-15 06:00:00+00:00',\n",
      "               '2020-06-15 07:00:00+00:00', '2020-06-15 08:00:00+00:00',\n",
      "               '2020-06-15 09:00:00+00:00', '2020-06-15 10:00:00+00:00',\n",
      "               '2020-06-15 11:00:00+00:00', '2020-06-15 12:00:00+00:00',\n",
      "               ...\n",
      "               '2021-12-16 18:30:00+00:00', '2021-12-16 19:00:00+00:00',\n",
      "               '2021-12-16 19:30:00+00:00', '2021-12-16 20:00:00+00:00',\n",
      "               '2021-12-16 20:30:00+00:00', '2021-12-16 21:00:00+00:00',\n",
      "               '2021-12-16 21:30:00+00:00', '2021-12-16 22:00:00+00:00',\n",
      "               '2021-12-16 22:30:00+00:00', '2021-12-16 23:00:00+00:00'],\n",
      "              dtype='datetime64[ns, UTC]', name='Horodate', length=22460, freq=None)\n"
     ]
    }
   ],
   "source": [
    "print(df.dtypes)\n",
    "print(df.index)"
   ]
  },
  {
   "cell_type": "markdown",
   "id": "2e58ddee-807f-4127-9b1a-af16091e3e70",
   "metadata": {},
   "source": [
    "Pour éviter le pb du sampling freq qui passe de 1H à 30min le 31 oct 2020, on passe tout en 1h.\n",
    "\n",
    "C'est très étrange mais les valeurs 30 min d'ENEDIS sont fausses et correspondent exactement chez moi au double de la conso réelle (telle que sur les relevés fournisseur, et donc les factures).\n",
    "Du coup un moyen simple & dirty de palier à ça et d'ici aggréger par .mean() alors que cela aurait dû être .sum()"
   ]
  },
  {
   "cell_type": "code",
   "execution_count": 6,
   "id": "f8176243-24ea-4480-b301-55f4739ba6c9",
   "metadata": {
    "tags": []
   },
   "outputs": [
    {
     "data": {
      "image/png": "[encoded data removed]",
      "text/plain": [
       "<Figure size 432x288 with 1 Axes>"
      ]
     },
     "metadata": {
      "needs_background": "light"
     },
     "output_type": "display_data"
    }
   ],
   "source": [
    "#df = df.Valeur.resample('H').sum()\n",
    "df_h = df.resample('H').mean()\n",
    "plt.plot(df_h);"
   ]
  },
  {
   "cell_type": "markdown",
   "id": "3f81ab8f-c7c9-4d96-98dd-40b149143459",
   "metadata": {},
   "source": [
    "Ensuite, on véfifie pour vraiment être sûr que ce que l'on trouve dans les données ici corresponds à ce que l'on a sur la facture (à checker à l'oeil)."
   ]
  },
  {
   "cell_type": "code",
   "execution_count": 7,
   "id": "873fcaef-3ed0-41f5-b756-8a2a4b873690",
   "metadata": {},
   "outputs": [
    {
     "name": "stdout",
     "output_type": "stream",
     "text": [
      "1626.0\n"
     ]
    }
   ],
   "source": [
    "valcheck = df_h.Valeur['2021-12-15 03:00:00+00:00']\n",
    "print(valcheck)"
   ]
  },
  {
   "cell_type": "code",
   "execution_count": null,
   "id": "5aab7f22-8ab9-4d67-9c2c-31f20750f939",
   "metadata": {},
   "outputs": [],
   "source": [
    "df_month = df_h.resample('M').sum()\n",
    "df_month['Valeur'] = df_month['Valeur']/1000\n",
    "df_month['Cout'] = df_month['Valeur']*prix_kWh \n",
    "print(df_month)"
   ]
  },
  {
   "cell_type": "code",
   "execution_count": null,
   "id": "3826ebbe-92f7-4432-91d9-e7444ad536bc",
   "metadata": {},
   "outputs": [],
   "source": [
    "df_day = df_h.resample('D').sum()\n",
    "df_day['Valeur'] = df_day['Valeur']/1000\n",
    "df_day['Cout'] = df_day['Valeur']*prix_kWh\n",
    "print(df_day)"
   ]
  },
  {
   "cell_type": "code",
   "execution_count": null,
   "id": "044d129c-406b-4a16-82f0-c64c6657cf00",
   "metadata": {},
   "outputs": [],
   "source": [
    "df_y = df_h.resample('Y').sum()\n",
    "print(df_y)"
   ]
  },
  {
   "cell_type": "code",
   "execution_count": null,
   "id": "82831e73-fd64-4d61-8aa5-e9b8f10e8147",
   "metadata": {},
   "outputs": [],
   "source": [
    "df_y['kW'] = df_y['Valeur']/1000\n",
    "df_y['cout'] = df_y['Valeur']*prix_Wh\n",
    "print(df_y)"
   ]
  },
  {
   "cell_type": "code",
   "execution_count": null,
   "id": "88fedad1-b33f-4329-a809-e30259480377",
   "metadata": {},
   "outputs": [],
   "source": [
    "dfg = df.groupby([df.index.dt.year]).agg({'Valeur': sum})"
   ]
  },
  {
   "cell_type": "code",
   "execution_count": null,
   "id": "95781811-6eb8-4e77-b145-1be7eff29234",
   "metadata": {},
   "outputs": [],
   "source": [
    "df"
   ]
  },
  {
   "cell_type": "code",
   "execution_count": null,
   "id": "1552919f-8e32-4d55-8d13-3f44056c2e8c",
   "metadata": {},
   "outputs": [],
   "source": [
    "# there is missing rows in the ENEDIS doc... so we need to take of this\n",
    "start_time = df['Horodate'].iloc[0]\n",
    "end_time = df['Horodate'].iloc[-1]\n",
    "full_date = pd.date_range(start=start_time, end=end_time, freq='30min')"
   ]
  },
  {
   "cell_type": "code",
   "execution_count": null,
   "id": "dd145aef-f608-472f-b55b-bc155ca57fdc",
   "metadata": {},
   "outputs": [],
   "source": [
    "df_new = pd.DataFrame({'Horodate':full_date})\n",
    "df_new['Horodate'] = pd.to_datetime(df_new['Horodate'])"
   ]
  },
  {
   "cell_type": "code",
   "execution_count": null,
   "id": "1de30668-39ae-4329-b320-f586b56fccd7",
   "metadata": {},
   "outputs": [],
   "source": [
    "df.dtypes"
   ]
  },
  {
   "cell_type": "code",
   "execution_count": null,
   "id": "cc5a9a48-e44e-4cb8-877f-0695ab275705",
   "metadata": {},
   "outputs": [],
   "source": [
    "df_new2 = df_new.join(df, on='Horodate')"
   ]
  },
  {
   "cell_type": "code",
   "execution_count": null,
   "id": "88c6c15c-47dc-47f4-8817-1116b27e1022",
   "metadata": {},
   "outputs": [],
   "source": []
  },
  {
   "cell_type": "code",
   "execution_count": null,
   "id": "15a1aa7e-fc90-4fe5-b0d6-69021e65b5f2",
   "metadata": {},
   "outputs": [],
   "source": [
    "df.index = pd.to_datetime(df.index, utc=True)"
   ]
  },
  {
   "cell_type": "code",
   "execution_count": null,
   "id": "58d52359-ed70-4756-a4a1-83a008269130",
   "metadata": {},
   "outputs": [],
   "source": []
  },
  {
   "cell_type": "code",
   "execution_count": null,
   "id": "2f39296e-b510-492a-8b7c-87b8ab5295f8",
   "metadata": {},
   "outputs": [],
   "source": [
    "df.index"
   ]
  },
  {
   "cell_type": "code",
   "execution_count": null,
   "id": "3ad51b62-5e4f-43ab-b4c3-73c21afeaf4b",
   "metadata": {},
   "outputs": [],
   "source": []
  },
  {
   "cell_type": "code",
   "execution_count": null,
   "id": "94674ce2-0290-4fd4-8c19-678db57b2e4d",
   "metadata": {},
   "outputs": [],
   "source": [
    "a"
   ]
  },
  {
   "cell_type": "code",
   "execution_count": null,
   "id": "36f69be6-9ce8-4e70-91db-98bc6ef9462f",
   "metadata": {},
   "outputs": [],
   "source": [
    "#df = pd.read_csv(data_path, skiprows=0, sep=\";\", header=2, usecols=[0, 1], index_col = 'Horodate')\n",
    "#df.index = df.index.str.replace('+01:00','',regex=False) \n",
    "#df.index = pd.to_datetime(df.index, utc=True)\n",
    "#df.index = pd.DatetimeIndex(df.asfreq(freq='30min'))\n",
    "#df.index = df.index.tz_convert(\"Europe/London\")"
   ]
  },
  {
   "cell_type": "code",
   "execution_count": null,
   "id": "b8f7b6a7-c8a1-441f-acba-ff9fc34a987b",
   "metadata": {},
   "outputs": [],
   "source": [
    "#df = pd.read_csv(data_path, skiprows=0, sep=\";\", header=2, usecols=[0, 1])\n",
    "#print(df.dtypes)\n",
    "#df[\"Horodate\"] = pd.to_datetime(df[\"Horodate\"], utc=True)\n",
    "#print(df.dtypes)\n",
    "#df.head()\n",
    "#df = df.set_index('Horodate')\n",
    "#print(df.dtypes)\n",
    "#df.head()\n",
    "#.tz_localize(\"Europe/London\")\n",
    "#print(df.index)"
   ]
  },
  {
   "cell_type": "code",
   "execution_count": null,
   "id": "b17e1260-ea30-4521-87e7-7a620382a837",
   "metadata": {},
   "outputs": [],
   "source": [
    "pd.infer_freq(df.index)"
   ]
  },
  {
   "cell_type": "code",
   "execution_count": null,
   "id": "84bad54e-1146-41be-aa62-f2f1e9e6ec89",
   "metadata": {},
   "outputs": [],
   "source": [
    "freq = pd.infer_freq(df.index)\n",
    "df.freq = pd.tseries.frequencies.to_offset(freq)"
   ]
  },
  {
   "cell_type": "code",
   "execution_count": null,
   "id": "0369e5ac-8c39-494f-9cef-50884934edf7",
   "metadata": {},
   "outputs": [],
   "source": [
    "pd.infer_freq(df.index) is None"
   ]
  },
  {
   "cell_type": "code",
   "execution_count": null,
   "id": "5d94e64a-5839-4225-a285-00e40f919e8e",
   "metadata": {},
   "outputs": [],
   "source": [
    "df.index.freq is None"
   ]
  },
  {
   "cell_type": "code",
   "execution_count": null,
   "id": "a25d40df-9b74-442f-860b-fae7a0324591",
   "metadata": {},
   "outputs": [],
   "source": [
    "df.index = pd.DatetimeIndex(df.asfreq(freq='30min'))\n",
    "#df.index.freq='30Min'\n",
    "#print(df.index.freq)"
   ]
  },
  {
   "cell_type": "code",
   "execution_count": null,
   "id": "11bfd40a-37b7-4714-8db7-9c41e13528e8",
   "metadata": {},
   "outputs": [],
   "source": []
  },
  {
   "cell_type": "code",
   "execution_count": null,
   "id": "2dd3ad66-372d-4eaf-8f5f-57becfbd0864",
   "metadata": {},
   "outputs": [],
   "source": []
  },
  {
   "cell_type": "code",
   "execution_count": null,
   "id": "3c87c9f8-b84e-41bf-81c4-4884f8f7cbb4",
   "metadata": {},
   "outputs": [],
   "source": [
    "df.index = df[\"Horodate\"].tz_localize(\"US\").tz_convert(\"Europe/London\")"
   ]
  },
  {
   "cell_type": "code",
   "execution_count": null,
   "id": "3ec1d5ae-e236-4afe-abea-78ad705c7ab8",
   "metadata": {},
   "outputs": [],
   "source": [
    "df[\"Horodate\"].tz_localize(\"Europe/London\")\n",
    "#.tz_convert(\"UTC\")"
   ]
  },
  {
   "cell_type": "code",
   "execution_count": null,
   "id": "2becd789-1fff-4407-8339-4c16485d0e68",
   "metadata": {},
   "outputs": [],
   "source": [
    "df[\"Horodate\"] "
   ]
  },
  {
   "cell_type": "code",
   "execution_count": null,
   "id": "dcba4f98-174c-4773-b5fa-3f6f6885e43c",
   "metadata": {},
   "outputs": [],
   "source": [
    "df['new'] = df['Horodate'].dt.tz_convert(None)"
   ]
  },
  {
   "cell_type": "code",
   "execution_count": null,
   "id": "7d049f15-fc19-4658-9600-5b68ec9c9e1d",
   "metadata": {},
   "outputs": [],
   "source": [
    "df['Horodate'] = pd.to_datetime(df['Horodate'], utc=True)\n",
    "#df = df.set_index('Horodate')"
   ]
  },
  {
   "cell_type": "code",
   "execution_count": null,
   "id": "606185ea-5263-44ed-a51f-a4db8c674d95",
   "metadata": {},
   "outputs": [],
   "source": [
    "df['Horodate']"
   ]
  },
  {
   "cell_type": "code",
   "execution_count": null,
   "id": "90234457-f224-4ef6-994f-7ae60ce18a61",
   "metadata": {},
   "outputs": [],
   "source": [
    "df['Horodate'].tz_convert(\"Europe/Berlin\")"
   ]
  },
  {
   "cell_type": "code",
   "execution_count": null,
   "id": "1ed24140-52d6-49ef-8db3-06a2436c6244",
   "metadata": {},
   "outputs": [],
   "source": [
    "#format = '%Y-%m-%d %H:%M:%S'\n",
    "df['Horodate'] = pd.to_datetime(df['Horodate'], infer_datetime_format=True) #format=format)\n",
    "#df['Datetime'].tz_convert(\"Europe/Berlin\")\n",
    "df = df.set_index(df['Horodate'])"
   ]
  },
  {
   "cell_type": "code",
   "execution_count": null,
   "id": "8fe2f06c-015b-4ad3-ad54-d96635e29baf",
   "metadata": {},
   "outputs": [],
   "source": [
    "df['Horodate'].tz_convert(\"Europe/Berlin\")"
   ]
  },
  {
   "cell_type": "code",
   "execution_count": null,
   "id": "6dbcdd96-1b51-4d75-93cc-138b0ddc9ad3",
   "metadata": {},
   "outputs": [],
   "source": [
    "#data = data.set_index('Horodate')\n",
    "data['Horodate'].DatetimeIndex()"
   ]
  },
  {
   "cell_type": "code",
   "execution_count": null,
   "id": "7d2e9a43-d001-48aa-8e7a-b86a6168880c",
   "metadata": {},
   "outputs": [],
   "source": [
    "# Replace missing values with the last one recorded (hopefully not too much)\n",
    "print(f\"{data['Valeur'].isna().sum()} missing values will be ffilled\")\n",
    "data['Valeur'] = data['Valeur'].ffill()\n",
    "print(f\"Done. {data['Valeur'].isna().sum()} missing values remaining\")"
   ]
  },
  {
   "cell_type": "code",
   "execution_count": null,
   "id": "6efa23e3-495a-4760-966c-a0eb6cc5344e",
   "metadata": {},
   "outputs": [],
   "source": [
    "data_weekly_mean = data['Valeur'].resample('W').mean() # W stands for weekly"
   ]
  },
  {
   "cell_type": "code",
   "execution_count": null,
   "id": "0deebdfb-c27c-4cc9-8268-71491bd961b3",
   "metadata": {},
   "outputs": [],
   "source": []
  }
 ],
 "metadata": {
  "kernelspec": {
   "display_name": "Python 3 (ipykernel)",
   "language": "python",
   "name": "python3"
  },
  "language_info": {
   "codemirror_mode": {
    "name": "ipython",
    "version": 3
   },
   "file_extension": ".py",
   "mimetype": "text/x-python",
   "name": "python",
   "nbconvert_exporter": "python",
   "pygments_lexer": "ipython3",
   "version": "3.8.12"
  }
 },
 "nbformat": 4,
 "nbformat_minor": 5
}
