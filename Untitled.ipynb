{
 "cells": [
  {
   "cell_type": "code",
   "execution_count": 2,
   "id": "953eee2a-3f87-4703-b4ca-00e807246480",
   "metadata": {},
   "outputs": [],
   "source": [
    "import numpy as np\n",
    "import pandas as pd\n",
    "import matplotlib.pyplot as plt"
   ]
  },
  {
   "cell_type": "code",
   "execution_count": 3,
   "id": "ff0bda80-82d4-49ad-b39e-59ba41f168d7",
   "metadata": {},
   "outputs": [],
   "source": [
    "prix_kWh = 0.1544 # en €, pas de prise en compte heures pleines/creuses ici\n",
    "prix_Wh = prix_kWh/1000\n",
    "\n",
    "# According to Direct Energie, ma conso annuel\n",
    "# 10300 kW in 2020\n",
    "# 7000 kW something in 2021"
   ]
  },
  {
   "cell_type": "code",
   "execution_count": 4,
   "id": "b0da46de-a297-4bc1-b3ce-75615e30d404",
   "metadata": {},
   "outputs": [],
   "source": [
    "data_path = './data/106852613-CROUZET-SÉBASTIEN.csv'"
   ]
  },
  {
   "cell_type": "code",
   "execution_count": 19,
   "id": "3973c301-329c-467a-8261-e3b899eb629f",
   "metadata": {},
   "outputs": [],
   "source": [
    "df = pd.read_csv(data_path, sep=\";\", usecols=[1, 2])"
   ]
  },
  {
   "cell_type": "code",
   "execution_count": 21,
   "id": "1a298d96-2b26-46b9-b812-526ef13f1fa6",
   "metadata": {},
   "outputs": [],
   "source": [
    "#df.index = df.index.str.replace('+01:00','',regex=False) \n",
    "format = '%d/%m/%Y %H:%M:%S'\n",
    "df.Date = pd.to_datetime(df.Date, format=format)\n",
    "df = df.set_index('Date')\n",
    "#df.index = pd.DatetimeIndex(df.asfreq(freq='30min'))\n",
    "#df.index = df.index.tz_convert(\"Europe/London\")"
   ]
  },
  {
   "cell_type": "code",
   "execution_count": 23,
   "id": "a6369559-f637-4111-908e-4ea8bc32cfff",
   "metadata": {},
   "outputs": [
    {
     "data": {
      "text/html": [
       "<div>\n",
       "<style scoped>\n",
       "    .dataframe tbody tr th:only-of-type {\n",
       "        vertical-align: middle;\n",
       "    }\n",
       "\n",
       "    .dataframe tbody tr th {\n",
       "        vertical-align: top;\n",
       "    }\n",
       "\n",
       "    .dataframe thead th {\n",
       "        text-align: right;\n",
       "    }\n",
       "</style>\n",
       "<table border=\"1\" class=\"dataframe\">\n",
       "  <thead>\n",
       "    <tr style=\"text-align: right;\">\n",
       "      <th></th>\n",
       "      <th>Consommation</th>\n",
       "    </tr>\n",
       "    <tr>\n",
       "      <th>Date</th>\n",
       "      <th></th>\n",
       "    </tr>\n",
       "  </thead>\n",
       "  <tbody>\n",
       "    <tr>\n",
       "      <th>2020-12-18 00:00:00</th>\n",
       "      <td>0.183</td>\n",
       "    </tr>\n",
       "    <tr>\n",
       "      <th>2020-12-18 00:30:00</th>\n",
       "      <td>0.103</td>\n",
       "    </tr>\n",
       "    <tr>\n",
       "      <th>2020-12-18 01:00:00</th>\n",
       "      <td>0.136</td>\n",
       "    </tr>\n",
       "    <tr>\n",
       "      <th>2020-12-18 01:30:00</th>\n",
       "      <td>0.061</td>\n",
       "    </tr>\n",
       "    <tr>\n",
       "      <th>2020-12-18 02:00:00</th>\n",
       "      <td>0.122</td>\n",
       "    </tr>\n",
       "    <tr>\n",
       "      <th>...</th>\n",
       "      <td>...</td>\n",
       "    </tr>\n",
       "    <tr>\n",
       "      <th>2021-12-15 22:00:00</th>\n",
       "      <td>1.897</td>\n",
       "    </tr>\n",
       "    <tr>\n",
       "      <th>2021-12-15 22:30:00</th>\n",
       "      <td>2.506</td>\n",
       "    </tr>\n",
       "    <tr>\n",
       "      <th>2021-12-15 23:00:00</th>\n",
       "      <td>1.278</td>\n",
       "    </tr>\n",
       "    <tr>\n",
       "      <th>2021-12-15 23:30:00</th>\n",
       "      <td>0.205</td>\n",
       "    </tr>\n",
       "    <tr>\n",
       "      <th>2021-12-16 00:00:00</th>\n",
       "      <td>0.079</td>\n",
       "    </tr>\n",
       "  </tbody>\n",
       "</table>\n",
       "<p>16257 rows × 1 columns</p>\n",
       "</div>"
      ],
      "text/plain": [
       "                     Consommation\n",
       "Date                             \n",
       "2020-12-18 00:00:00         0.183\n",
       "2020-12-18 00:30:00         0.103\n",
       "2020-12-18 01:00:00         0.136\n",
       "2020-12-18 01:30:00         0.061\n",
       "2020-12-18 02:00:00         0.122\n",
       "...                           ...\n",
       "2021-12-15 22:00:00         1.897\n",
       "2021-12-15 22:30:00         2.506\n",
       "2021-12-15 23:00:00         1.278\n",
       "2021-12-15 23:30:00         0.205\n",
       "2021-12-16 00:00:00         0.079\n",
       "\n",
       "[16257 rows x 1 columns]"
      ]
     },
     "execution_count": 23,
     "metadata": {},
     "output_type": "execute_result"
    }
   ],
   "source": [
    "df['Consommation'] = df['Consommation'].str.replace(' kWh','') \n",
    "df['Consommation'] = df['Consommation'].astype(float)\n",
    "df"
   ]
  },
  {
   "cell_type": "code",
   "execution_count": 28,
   "id": "48505ffe-c4f1-412f-bc4f-58906ea37c00",
   "metadata": {},
   "outputs": [
    {
     "data": {
      "text/plain": [
       "Timestamp('2021-12-16 00:00:00')"
      ]
     },
     "execution_count": 28,
     "metadata": {},
     "output_type": "execute_result"
    }
   ],
   "source": [
    "df.index[-1]"
   ]
  },
  {
   "cell_type": "code",
   "execution_count": 29,
   "id": "f52ea3a6-2bb6-4e76-bfa5-53e79b1b892e",
   "metadata": {},
   "outputs": [],
   "source": [
    "start_time = df.index[0]\n",
    "end_time = df.index[-1]\n",
    "full_date = pd.date_range(start=start_time, end=end_time, freq='30min')"
   ]
  },
  {
   "cell_type": "code",
   "execution_count": 30,
   "id": "d0de18b9-085d-4e6b-a42d-b369d9a1f951",
   "metadata": {},
   "outputs": [
    {
     "data": {
      "text/plain": [
       "DatetimeIndex(['2020-12-18 00:00:00', '2020-12-18 00:30:00',\n",
       "               '2020-12-18 01:00:00', '2020-12-18 01:30:00',\n",
       "               '2020-12-18 02:00:00', '2020-12-18 02:30:00',\n",
       "               '2020-12-18 03:00:00', '2020-12-18 03:30:00',\n",
       "               '2020-12-18 04:00:00', '2020-12-18 04:30:00',\n",
       "               ...\n",
       "               '2021-12-15 19:30:00', '2021-12-15 20:00:00',\n",
       "               '2021-12-15 20:30:00', '2021-12-15 21:00:00',\n",
       "               '2021-12-15 21:30:00', '2021-12-15 22:00:00',\n",
       "               '2021-12-15 22:30:00', '2021-12-15 23:00:00',\n",
       "               '2021-12-15 23:30:00', '2021-12-16 00:00:00'],\n",
       "              dtype='datetime64[ns]', length=17425, freq='30T')"
      ]
     },
     "execution_count": 30,
     "metadata": {},
     "output_type": "execute_result"
    }
   ],
   "source": [
    "full_date"
   ]
  },
  {
   "cell_type": "code",
   "execution_count": null,
   "id": "12508121-3ecc-4ff9-bd3b-fff6e16508d3",
   "metadata": {},
   "outputs": [],
   "source": []
  }
 ],
 "metadata": {
  "kernelspec": {
   "display_name": "Python 3 (ipykernel)",
   "language": "python",
   "name": "python3"
  },
  "language_info": {
   "codemirror_mode": {
    "name": "ipython",
    "version": 3
   },
   "file_extension": ".py",
   "mimetype": "text/x-python",
   "name": "python",
   "nbconvert_exporter": "python",
   "pygments_lexer": "ipython3",
   "version": "3.8.12"
  }
 },
 "nbformat": 4,
 "nbformat_minor": 5
}
